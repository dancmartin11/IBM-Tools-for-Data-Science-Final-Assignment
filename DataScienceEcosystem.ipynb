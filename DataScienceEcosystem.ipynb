{
 "cells": [
  {
   "cell_type": "markdown",
   "metadata": {},
   "source": [
    "<center>\n",
    "    <img src=\"https://cf-courses-data.s3.us.cloud-object-storage.appdomain.cloud/IBMDeveloperSkillsNetwork-DS0105EN-SkillsNetwork/labs/Module2/images/SN_web_lightmode.png\" width=\"300\" alt=\"cognitiveclass.ai logo\">\n",
    "</center>\n"
   ]
  },
  {
   "cell_type": "markdown",
   "metadata": {},
   "source": [
    "# **Data Science Tools and Ecosystem**"
   ]
  },
  {
   "cell_type": "markdown",
   "metadata": {
    "tags": []
   },
   "source": [
    "## **Author**\n",
    "\n",
    "Daniel Alejandro Castillo Martín"
   ]
  },
  {
   "cell_type": "markdown",
   "metadata": {},
   "source": [
    "---"
   ]
  },
  {
   "cell_type": "markdown",
   "metadata": {},
   "source": [
    "**Objectives:**\n",
    "- List popular languages for Data Science.\n",
    "- List popular libraries for Data Science.\n",
    "- Show how to evaluate simple arithmetic expressions with *Python*."
   ]
  },
  {
   "cell_type": "markdown",
   "metadata": {},
   "source": [
    "In this notebook, Data Science Tools and Ecosystem are summarized."
   ]
  },
  {
   "cell_type": "markdown",
   "metadata": {},
   "source": [
    "Some of the popular languages that Data Scientists use are:\n",
    "\n",
    "1. *Python*\n",
    "2. *R*\n",
    "3. *SQL*\n",
    "4. *Julia*\n",
    "5. *Scala*\n",
    "6. *Java*\n",
    "7. *C++*\n",
    "8. *JavaScript*"
   ]
  },
  {
   "cell_type": "markdown",
   "metadata": {},
   "source": [
    "Some of the commonly used libraries used by Data Scientists include:\n",
    "- Scientific Computing:\n",
    "    1. *Pandas* (*Python*)\n",
    "    2. *NumPy* (*Python*)\n",
    "    3. *dplyr* (*R*)\n",
    "- Data Visualization:\n",
    "    4. *Matplotlib* (*Python*)\n",
    "    5. *Seaborn* (*Python*)\n",
    "    6. *ggplot* (*R*)\n",
    "- Machine Learning and Deep Learning:\n",
    "    7. *Sci-Kit Learn* (*Python*)\n",
    "    8. *Keras* (*Python*)\n",
    "    9. *Caret* (*R*)\n",
    "\n",
    "And many more..."
   ]
  },
  {
   "cell_type": "markdown",
   "metadata": {},
   "source": [
    "<style>\n",
    "|  **Data Science Tools**   |\n",
    "| :-----------------------: |\n",
    "|  JupyterLab (Notebooks)   |\n",
    "|VisualStudio Code (VS Code)|\n",
    "    </style>"
   ]
  },
  {
   "cell_type": "markdown",
   "metadata": {},
   "source": [
    "|      **Data Science Tools**        |\n",
    "|     :-----------------------:      |\n",
    "|            *Anaconda*              |\n",
    "|*Google Collaboratory (GoogleColab)*|\n",
    "|      *JupyterLab (Notebooks)*      |\n",
    "|          *Spyder*                  |\n",
    "|    *VisualStudio Code (VS Code)*   |"
   ]
  },
  {
   "cell_type": "markdown",
   "metadata": {},
   "source": [
    "### **Below are a few examples of evaluating arithmetic expressions in Python.**"
   ]
  },
  {
   "cell_type": "code",
   "execution_count": 6,
   "metadata": {
    "tags": []
   },
   "outputs": [
    {
     "name": "stdout",
     "output_type": "stream",
     "text": [
      "17\n"
     ]
    }
   ],
   "source": [
    "#This is a simple arithmetic expression to multiply and then add integers\n",
    "x = (3*4)+5\n",
    "print(x)"
   ]
  },
  {
   "cell_type": "code",
   "execution_count": 13,
   "metadata": {
    "tags": []
   },
   "outputs": [
    {
     "name": "stdout",
     "output_type": "stream",
     "text": [
      "3.33\n"
     ]
    }
   ],
   "source": [
    "#This will convert 200 minutes to hours by dividing by 60\n",
    "minutes = 200\n",
    "hours = minutes / 60\n",
    "print(round(hours, 2))"
   ]
  },
  {
   "cell_type": "code",
   "execution_count": null,
   "metadata": {},
   "outputs": [],
   "source": []
  }
 ],
 "metadata": {
  "kernelspec": {
   "display_name": "Python",
   "language": "python",
   "name": "conda-env-python-py"
  },
  "language_info": {
   "codemirror_mode": {
    "name": "ipython",
    "version": 3
   },
   "file_extension": ".py",
   "mimetype": "text/x-python",
   "name": "python",
   "nbconvert_exporter": "python",
   "pygments_lexer": "ipython3",
   "version": "3.7.12"
  }
 },
 "nbformat": 4,
 "nbformat_minor": 4
}
